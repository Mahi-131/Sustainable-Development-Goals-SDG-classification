{
  "nbformat": 4,
  "nbformat_minor": 5,
  "metadata": {
    "kernelspec": {
      "display_name": "Python 3 (ipykernel)",
      "language": "python",
      "name": "python3"
    },
    "language_info": {
      "codemirror_mode": {
        "name": "ipython",
        "version": 3
      },
      "file_extension": ".py",
      "mimetype": "text/x-python",
      "name": "python",
      "nbconvert_exporter": "python",
      "pygments_lexer": "ipython3",
      "version": "3.9.4"
    },
    "colab": {
      "name": "MDSC_302_Assignment_20227.ipynb",
      "provenance": [],
      "collapsed_sections": []
    },
    "accelerator": "GPU"
  },
  "cells": [
    {
      "cell_type": "markdown",
      "metadata": {
        "id": "01f07c4b"
      },
      "source": [
        "## Importing necessary libraries"
      ],
      "id": "01f07c4b"
    },
    {
      "cell_type": "code",
      "metadata": {
        "id": "3d9ecef4",
        "colab": {
          "base_uri": "https://localhost:8080/"
        },
        "outputId": "a3c0c250-65c9-4811-a2bc-ab7fa5fe7f49"
      },
      "source": [
        "# standard library\n",
        "from typing import List\n",
        "\n",
        "# data wrangling\n",
        "import numpy as np\n",
        "import pandas as pd\n",
        "\n",
        "# visualisation\n",
        "import plotly.express as px\n",
        "import plotly.io as pio\n",
        "\n",
        "# nlp\n",
        "import spacy\n",
        "\n",
        "# data modelling\n",
        "from sklearn.model_selection import train_test_split\n",
        "from sklearn.feature_extraction.text import CountVectorizer, TfidfVectorizer\n",
        "from sklearn.feature_selection import SelectKBest, chi2, f_classif\n",
        "from sklearn.linear_model import LogisticRegression\n",
        "from sklearn.pipeline import Pipeline\n",
        "from sklearn.metrics import confusion_matrix, classification_report, accuracy_score, f1_score\n",
        "\n",
        "# utils\n",
        "from tqdm import tqdm\n",
        "\n",
        "# local packages\n",
        "from helpers import plot_confusion_matrix, get_top_features, fix_sdg_name\n",
        "\n",
        "print('Loaded!')"
      ],
      "id": "3d9ecef4",
      "execution_count": 2,
      "outputs": [
        {
          "output_type": "stream",
          "name": "stdout",
          "text": [
            "Loaded!\n"
          ]
        }
      ]
    },
    {
      "cell_type": "markdown",
      "metadata": {
        "id": "vEuOqw-rQBln"
      },
      "source": [
        ""
      ],
      "id": "vEuOqw-rQBln"
    },
    {
      "cell_type": "markdown",
      "metadata": {
        "id": "7q24-ttVPso3"
      },
      "source": [
        "#### Here we are using Spacy for removing unnecessary words such as stopping words which doesn't provide any meaning and disabling ner(named entity recognition)."
      ],
      "id": "7q24-ttVPso3"
    },
    {
      "cell_type": "code",
      "metadata": {
        "id": "7b918fd4"
      },
      "source": [
        "# other settings\n",
        "pio.templates.default = 'plotly_dark'\n",
        "spacy.prefer_gpu()\n",
        "nlp = spacy.load('en_core_web_sm', disable = ['ner'])\n"
      ],
      "id": "7b918fd4",
      "execution_count": 3,
      "outputs": []
    },
    {
      "cell_type": "markdown",
      "metadata": {
        "id": "eb58b62e"
      },
      "source": [
        "## Loading data and exploring"
      ],
      "id": "eb58b62e"
    },
    {
      "cell_type": "code",
      "metadata": {
        "id": "04f7ba09",
        "colab": {
          "base_uri": "https://localhost:8080/"
        },
        "outputId": "0ec592cc-8590-4a20-cb05-641d3ddf0d68"
      },
      "source": [
        "dataset = pd.read_csv('https://zenodo.org/record/5550238/files/osdg-community-dataset-v21-09-30.csv?download=1')\n",
        "print('Shape:', dataset.shape)\n",
        "#display(dataset['text'].values)\n",
        "#display(dataset.head())"
      ],
      "id": "04f7ba09",
      "execution_count": 4,
      "outputs": [
        {
          "output_type": "stream",
          "name": "stdout",
          "text": [
            "Shape: (32121, 7)\n"
          ]
        }
      ]
    },
    {
      "cell_type": "code",
      "metadata": {
        "id": "18d5b11e",
        "colab": {
          "base_uri": "https://localhost:8080/"
        },
        "outputId": "0940b9ab-4db8-49ab-965d-6424a2541059"
      },
      "source": [
        "# calculating cumulative probability over agreement scores\n",
        "df_lambda = dataset['agreement'].value_counts(normalize = True).sort_index().cumsum().to_frame(name = 'p_sum')\n",
        "df_lambda.reset_index(inplace = True)\n",
        "df_lambda.rename({'index': 'agreement'}, axis = 1, inplace = True)\n",
        "\n",
        "print('Shape:', df_lambda.shape)\n"
      ],
      "id": "18d5b11e",
      "execution_count": 5,
      "outputs": [
        {
          "output_type": "stream",
          "name": "stdout",
          "text": [
            "Shape: (36, 2)\n"
          ]
        }
      ]
    },
    {
      "cell_type": "code",
      "metadata": {
        "id": "10c2a1e0",
        "colab": {
          "base_uri": "https://localhost:8080/"
        },
        "outputId": "4e74fc8c-ee95-45c5-edb1-b79a234513c9"
      },
      "source": [
        "# keeping only the texts whose suggested sdg labels is accepted and the agreement score is at least .6\n",
        "print('Shape before:', dataset.shape)\n",
        "dataset = dataset.query('agreement >= .6 and labels_positive > labels_negative').copy()\n",
        "print('Shape after :', dataset.shape)\n"
      ],
      "id": "10c2a1e0",
      "execution_count": 6,
      "outputs": [
        {
          "output_type": "stream",
          "name": "stdout",
          "text": [
            "Shape before: (32121, 7)\n",
            "Shape after : (17233, 7)\n"
          ]
        }
      ]
    },
    {
      "cell_type": "code",
      "metadata": {
        "id": "yplxlLvvWP9H",
        "colab": {
          "base_uri": "https://localhost:8080/"
        },
        "outputId": "bb67b0aa-b327-4fe8-d01a-7b205f11c73e"
      },
      "source": [
        "df3 = dataset['sdg'].value_counts()\n",
        "df3.columns = ['sdg', 'count']\n",
        "print (df3.sort_index())"
      ],
      "id": "yplxlLvvWP9H",
      "execution_count": 7,
      "outputs": [
        {
          "output_type": "stream",
          "name": "stdout",
          "text": [
            "1     1146\n",
            "2      827\n",
            "3     1854\n",
            "4     2324\n",
            "5     2286\n",
            "6     1343\n",
            "7     1589\n",
            "8      859\n",
            "9      688\n",
            "10     437\n",
            "11    1260\n",
            "12     244\n",
            "13    1129\n",
            "14     705\n",
            "15     542\n",
            "Name: sdg, dtype: int64\n"
          ]
        }
      ]
    },
    {
      "cell_type": "code",
      "metadata": {
        "id": "3c171754",
        "colab": {
          "base_uri": "https://localhost:8080/",
          "height": 223
        },
        "outputId": "28450e08-1548-48e2-dd65-de1655942590"
      },
      "source": [
        "df_lambda = dataset.groupby('sdg', as_index = False).agg(count = ('text_id', 'count'))\n",
        "df_lambda['share'] = df_lambda['count'].divide(df_lambda['count'].sum()).multiply(100)\n",
        "print('Shape:', df_lambda.shape)\n",
        "display(df_lambda.head())"
      ],
      "id": "3c171754",
      "execution_count": 8,
      "outputs": [
        {
          "output_type": "stream",
          "name": "stdout",
          "text": [
            "Shape: (15, 3)\n"
          ]
        },
        {
          "output_type": "display_data",
          "data": {
            "text/html": [
              "<div>\n",
              "<style scoped>\n",
              "    .dataframe tbody tr th:only-of-type {\n",
              "        vertical-align: middle;\n",
              "    }\n",
              "\n",
              "    .dataframe tbody tr th {\n",
              "        vertical-align: top;\n",
              "    }\n",
              "\n",
              "    .dataframe thead th {\n",
              "        text-align: right;\n",
              "    }\n",
              "</style>\n",
              "<table border=\"1\" class=\"dataframe\">\n",
              "  <thead>\n",
              "    <tr style=\"text-align: right;\">\n",
              "      <th></th>\n",
              "      <th>sdg</th>\n",
              "      <th>count</th>\n",
              "      <th>share</th>\n",
              "    </tr>\n",
              "  </thead>\n",
              "  <tbody>\n",
              "    <tr>\n",
              "      <th>0</th>\n",
              "      <td>1</td>\n",
              "      <td>1146</td>\n",
              "      <td>6.650032</td>\n",
              "    </tr>\n",
              "    <tr>\n",
              "      <th>1</th>\n",
              "      <td>2</td>\n",
              "      <td>827</td>\n",
              "      <td>4.798932</td>\n",
              "    </tr>\n",
              "    <tr>\n",
              "      <th>2</th>\n",
              "      <td>3</td>\n",
              "      <td>1854</td>\n",
              "      <td>10.758429</td>\n",
              "    </tr>\n",
              "    <tr>\n",
              "      <th>3</th>\n",
              "      <td>4</td>\n",
              "      <td>2324</td>\n",
              "      <td>13.485754</td>\n",
              "    </tr>\n",
              "    <tr>\n",
              "      <th>4</th>\n",
              "      <td>5</td>\n",
              "      <td>2286</td>\n",
              "      <td>13.265247</td>\n",
              "    </tr>\n",
              "  </tbody>\n",
              "</table>\n",
              "</div>"
            ],
            "text/plain": [
              "   sdg  count      share\n",
              "0    1   1146   6.650032\n",
              "1    2    827   4.798932\n",
              "2    3   1854  10.758429\n",
              "3    4   2324  13.485754\n",
              "4    5   2286  13.265247"
            ]
          },
          "metadata": {}
        }
      ]
    },
    {
      "cell_type": "markdown",
      "metadata": {
        "id": "6g_2Jj3kdc7Y"
      },
      "source": [
        "## Preprocess_spacy function which takes text from the dataframe and returns meaningful words"
      ],
      "id": "6g_2Jj3kdc7Y"
    },
    {
      "cell_type": "code",
      "metadata": {
        "id": "086f46d1"
      },
      "source": [
        "def preprocess_spacy(alpha: List[str]) -> List[str]:\n",
        "   \n",
        "    docs = list()\n",
        "    \n",
        "    for doc in tqdm(nlp.pipe(alpha, batch_size = 128)):\n",
        "        tokens = list()\n",
        "        for token in doc:\n",
        "            if token.pos_ in ['NOUN', 'VERB', 'ADJ']:\n",
        "                tokens.append(token.lemma_)\n",
        "        docs.append(' '.join(tokens))\n",
        "    \n",
        "    return docs\n",
        "  "
      ],
      "id": "086f46d1",
      "execution_count": 9,
      "outputs": []
    },
    {
      "cell_type": "markdown",
      "metadata": {
        "id": "IR9psM7AqJQM"
      },
      "source": [
        "### Calling the preprocess_spacy function "
      ],
      "id": "IR9psM7AqJQM"
    },
    {
      "cell_type": "code",
      "metadata": {
        "scrolled": false,
        "id": "9f83bfc9",
        "colab": {
          "base_uri": "https://localhost:8080/",
          "height": 432
        },
        "outputId": "81ca3cd2-5d23-4dd0-f4d0-b998b22c0242"
      },
      "source": [
        "dataset['docs'] = preprocess_spacy(dataset['text'].values)\n",
        "print('\\nShape:', dataset.shape)\n",
        "display(dataset.head())"
      ],
      "id": "9f83bfc9",
      "execution_count": 10,
      "outputs": [
        {
          "output_type": "stream",
          "name": "stderr",
          "text": [
            "17233it [01:13, 234.82it/s]"
          ]
        },
        {
          "output_type": "stream",
          "name": "stdout",
          "text": [
            "\n",
            "Shape: (17233, 8)\n"
          ]
        },
        {
          "output_type": "stream",
          "name": "stderr",
          "text": [
            "\n"
          ]
        },
        {
          "output_type": "display_data",
          "data": {
            "text/html": [
              "<div>\n",
              "<style scoped>\n",
              "    .dataframe tbody tr th:only-of-type {\n",
              "        vertical-align: middle;\n",
              "    }\n",
              "\n",
              "    .dataframe tbody tr th {\n",
              "        vertical-align: top;\n",
              "    }\n",
              "\n",
              "    .dataframe thead th {\n",
              "        text-align: right;\n",
              "    }\n",
              "</style>\n",
              "<table border=\"1\" class=\"dataframe\">\n",
              "  <thead>\n",
              "    <tr style=\"text-align: right;\">\n",
              "      <th></th>\n",
              "      <th>doi</th>\n",
              "      <th>text_id</th>\n",
              "      <th>text</th>\n",
              "      <th>sdg</th>\n",
              "      <th>labels_negative</th>\n",
              "      <th>labels_positive</th>\n",
              "      <th>agreement</th>\n",
              "      <th>docs</th>\n",
              "    </tr>\n",
              "  </thead>\n",
              "  <tbody>\n",
              "    <tr>\n",
              "      <th>0</th>\n",
              "      <td>10.6027/9789289342698-7-en</td>\n",
              "      <td>00021941702cd84171ff33962197ca1f</td>\n",
              "      <td>From a gender perspective, Paulgaard points ou...</td>\n",
              "      <td>5</td>\n",
              "      <td>1</td>\n",
              "      <td>7</td>\n",
              "      <td>0.750000</td>\n",
              "      <td>gender perspective point labour market fishing...</td>\n",
              "    </tr>\n",
              "    <tr>\n",
              "      <th>2</th>\n",
              "      <td>10.1787/9789264289062-4-en</td>\n",
              "      <td>0004eb64f96e1620cd852603d9cbe4d4</td>\n",
              "      <td>The average figure also masks large difference...</td>\n",
              "      <td>3</td>\n",
              "      <td>1</td>\n",
              "      <td>6</td>\n",
              "      <td>0.714286</td>\n",
              "      <td>average figure mask large difference region nu...</td>\n",
              "    </tr>\n",
              "    <tr>\n",
              "      <th>7</th>\n",
              "      <td>10.1787/9789264117563-8-en</td>\n",
              "      <td>000bfb17e9f3a00d4515ab59c5c487e7</td>\n",
              "      <td>The Israel Oceanographic and Limnological Rese...</td>\n",
              "      <td>6</td>\n",
              "      <td>0</td>\n",
              "      <td>3</td>\n",
              "      <td>1.000000</td>\n",
              "      <td>station monitor quantity quality water coastli...</td>\n",
              "    </tr>\n",
              "    <tr>\n",
              "      <th>8</th>\n",
              "      <td>10.18356/805b1ae4-en</td>\n",
              "      <td>001180f5dd9a821e651ed51e30d0cf8c</td>\n",
              "      <td>Previous chapters have discussed ways to make ...</td>\n",
              "      <td>2</td>\n",
              "      <td>0</td>\n",
              "      <td>3</td>\n",
              "      <td>1.000000</td>\n",
              "      <td>previous chapter discuss way make food system ...</td>\n",
              "    </tr>\n",
              "    <tr>\n",
              "      <th>11</th>\n",
              "      <td>10.1787/9789264310278-en</td>\n",
              "      <td>001f1aee4013cb098da17a979c38bc57</td>\n",
              "      <td>Prescription rates appear to be higher where l...</td>\n",
              "      <td>8</td>\n",
              "      <td>0</td>\n",
              "      <td>3</td>\n",
              "      <td>1.000000</td>\n",
              "      <td>prescription rate appear high labour force par...</td>\n",
              "    </tr>\n",
              "  </tbody>\n",
              "</table>\n",
              "</div>"
            ],
            "text/plain": [
              "                           doi  ...                                               docs\n",
              "0   10.6027/9789289342698-7-en  ...  gender perspective point labour market fishing...\n",
              "2   10.1787/9789264289062-4-en  ...  average figure mask large difference region nu...\n",
              "7   10.1787/9789264117563-8-en  ...  station monitor quantity quality water coastli...\n",
              "8         10.18356/805b1ae4-en  ...  previous chapter discuss way make food system ...\n",
              "11    10.1787/9789264310278-en  ...  prescription rate appear high labour force par...\n",
              "\n",
              "[5 rows x 8 columns]"
            ]
          },
          "metadata": {}
        }
      ]
    },
    {
      "cell_type": "markdown",
      "metadata": {
        "id": "BaAYpHv1h8au"
      },
      "source": [
        "## Splitting the dataset into training and testing data."
      ],
      "id": "BaAYpHv1h8au"
    },
    {
      "cell_type": "code",
      "metadata": {
        "id": "515f3489"
      },
      "source": [
        "X_train, X_test, y_train, y_test = train_test_split(\n",
        "    dataset['docs'].values, \n",
        "    dataset['sdg'].values, \n",
        "    test_size = .3,\n",
        "    random_state = 42\n",
        ")"
      ],
      "id": "515f3489",
      "execution_count": 11,
      "outputs": []
    },
    {
      "cell_type": "markdown",
      "metadata": {
        "id": "6CWS0v8cYhsk"
      },
      "source": [
        "## Multi Classification starts here ! ! ! !\n",
        "### I am using ExtraTreesClassifier for multi-classification\n"
      ],
      "id": "6CWS0v8cYhsk"
    },
    {
      "cell_type": "code",
      "metadata": {
        "id": "8ecc1e0f",
        "colab": {
          "base_uri": "https://localhost:8080/"
        },
        "outputId": "1525e29b-362c-460b-f47c-a28896a0e270"
      },
      "source": [
        "from sklearn.ensemble import ExtraTreesClassifier\n",
        "pipe = Pipeline([\n",
        "    ('vectoriser', TfidfVectorizer(\n",
        "        ngram_range = (1, 2),\n",
        "        max_df = 0.75,\n",
        "        min_df = 2,\n",
        "        max_features = 100_000\n",
        "    )),\n",
        "    ('selector', SelectKBest(f_classif, k = 5_000)),\n",
        "    ('clf',ExtraTreesClassifier())\n",
        "])\n",
        "\n",
        "pipe.fit(X_train, y_train)"
      ],
      "id": "8ecc1e0f",
      "execution_count": 12,
      "outputs": [
        {
          "output_type": "execute_result",
          "data": {
            "text/plain": [
              "Pipeline(steps=[('vectoriser',\n",
              "                 TfidfVectorizer(max_df=0.75, max_features=100000, min_df=2,\n",
              "                                 ngram_range=(1, 2))),\n",
              "                ('selector', SelectKBest(k=5000)),\n",
              "                ('clf', ExtraTreesClassifier())])"
            ]
          },
          "metadata": {},
          "execution_count": 12
        }
      ]
    },
    {
      "cell_type": "markdown",
      "metadata": {
        "id": "cIajvJeDYUPg"
      },
      "source": [
        "## Getting Model Accuracy"
      ],
      "id": "cIajvJeDYUPg"
    },
    {
      "cell_type": "code",
      "metadata": {
        "id": "c717752f",
        "colab": {
          "base_uri": "https://localhost:8080/"
        },
        "outputId": "b3c75ff4-c9ed-43e0-9f23-0ffaafbbbfe3"
      },
      "source": [
        "y_hat = pipe.predict(X_test)\n",
        "from sklearn.metrics import accuracy_score\n",
        "model_accuracy = accuracy_score(y_test, y_hat)\n",
        "print('Accuracy of the Model = ', int(model_accuracy*100),'%')"
      ],
      "id": "c717752f",
      "execution_count": 13,
      "outputs": [
        {
          "output_type": "stream",
          "name": "stdout",
          "text": [
            "Accuracy of the Model =  84 %\n"
          ]
        }
      ]
    },
    {
      "cell_type": "markdown",
      "metadata": {
        "id": "oRLekb36YPa0"
      },
      "source": [
        "## Confusion Matrix"
      ],
      "id": "oRLekb36YPa0"
    },
    {
      "cell_type": "code",
      "metadata": {
        "id": "dr7nz-vRYOiR",
        "colab": {
          "base_uri": "https://localhost:8080/",
          "height": 646
        },
        "outputId": "49740cfc-ab3a-4e63-f691-7c22b44eef6e"
      },
      "source": [
        "plot_confusion_matrix(y_test, y_hat)"
      ],
      "id": "dr7nz-vRYOiR",
      "execution_count": 14,
      "outputs": [
        {
          "output_type": "display_data",
          "data": {
            "image/png": "[encoded data removed]",
            "text/plain": [
              "<Figure size 1152x648 with 1 Axes>"
            ]
          },
          "metadata": {}
        }
      ]
    },
    {
      "cell_type": "markdown",
      "metadata": {
        "id": "d7NpIb8xZxp4"
      },
      "source": [
        "## Predicting the goal and respective probabilities for training dataset."
      ],
      "id": "d7NpIb8xZxp4"
    },
    {
      "cell_type": "code",
      "metadata": {
        "id": "H7aMmTXOvBdt",
        "colab": {
          "base_uri": "https://localhost:8080/"
        },
        "outputId": "9398777a-f36e-45f2-dd45-9653f4ac8928"
      },
      "source": [
        "# Here I took 3rd text in the text column of dataset and predicted the SDG goal number.\n",
        "predicted_goal= pipe.predict([X_test[3]])\n",
        "print(predicted_goal)"
      ],
      "id": "H7aMmTXOvBdt",
      "execution_count": 15,
      "outputs": [
        {
          "output_type": "stream",
          "name": "stdout",
          "text": [
            "[5]\n"
          ]
        }
      ]
    },
    {
      "cell_type": "code",
      "metadata": {
        "id": "mY38uebSsn6z",
        "colab": {
          "base_uri": "https://localhost:8080/"
        },
        "outputId": "2b2ae9c8-2dd0-4421-83ba-037596b0dc9f"
      },
      "source": [
        "# Predicting the probability of each and every goal.\n",
        "predicted_probabilities = pipe.predict_proba([X_test[3]])\n",
        "print(predicted_probabilities)"
      ],
      "id": "mY38uebSsn6z",
      "execution_count": 16,
      "outputs": [
        {
          "output_type": "stream",
          "name": "stdout",
          "text": [
            "[[0.11 0.01 0.03 0.   0.7  0.01 0.01 0.05 0.02 0.   0.   0.   0.   0.01\n",
            "  0.05]]\n"
          ]
        }
      ]
    },
    {
      "cell_type": "markdown",
      "metadata": {
        "id": "VV-9bE45aGuP"
      },
      "source": [
        "### Classification report of the model"
      ],
      "id": "VV-9bE45aGuP"
    },
    {
      "cell_type": "code",
      "metadata": {
        "id": "GmOLzjYGoMcO",
        "colab": {
          "base_uri": "https://localhost:8080/"
        },
        "outputId": "e6e3329b-c95f-4a13-db17-a8c2803a537f"
      },
      "source": [
        "print(classification_report(y_test, y_hat, zero_division = 0))"
      ],
      "id": "GmOLzjYGoMcO",
      "execution_count": 17,
      "outputs": [
        {
          "output_type": "stream",
          "name": "stdout",
          "text": [
            "              precision    recall  f1-score   support\n",
            "\n",
            "           1       0.82      0.82      0.82       337\n",
            "           2       0.80      0.78      0.79       256\n",
            "           3       0.91      0.91      0.91       572\n",
            "           4       0.87      0.96      0.92       701\n",
            "           5       0.84      0.97      0.90       697\n",
            "           6       0.86      0.94      0.90       388\n",
            "           7       0.86      0.91      0.88       476\n",
            "           8       0.67      0.59      0.62       245\n",
            "           9       0.81      0.57      0.67       211\n",
            "          10       0.87      0.37      0.52       126\n",
            "          11       0.81      0.84      0.82       379\n",
            "          12       0.92      0.43      0.58        77\n",
            "          13       0.81      0.85      0.83       310\n",
            "          14       0.96      0.87      0.91       220\n",
            "          15       0.92      0.70      0.80       175\n",
            "\n",
            "    accuracy                           0.85      5170\n",
            "   macro avg       0.85      0.77      0.79      5170\n",
            "weighted avg       0.85      0.85      0.84      5170\n",
            "\n"
          ]
        }
      ]
    },
    {
      "cell_type": "code",
      "metadata": {
        "id": "hfacuR0EsKlD",
        "colab": {
          "base_uri": "https://localhost:8080/"
        },
        "outputId": "9e21a9b1-ec69-40b9-c8d5-e333508ec18a"
      },
      "source": [
        "!pip install pdfminer"
      ],
      "id": "hfacuR0EsKlD",
      "execution_count": 18,
      "outputs": [
        {
          "output_type": "stream",
          "name": "stdout",
          "text": [
            "Collecting pdfminer\n",
            "  Downloading pdfminer-20191125.tar.gz (4.2 MB)\n",
            "\u001b[K     |████████████████████████████████| 4.2 MB 5.4 MB/s \n",
            "\u001b[?25hCollecting pycryptodome\n",
            "  Downloading pycryptodome-3.12.0-cp35-abi3-manylinux2010_x86_64.whl (2.0 MB)\n",
            "\u001b[K     |████████████████████████████████| 2.0 MB 35.6 MB/s \n",
            "\u001b[?25hBuilding wheels for collected packages: pdfminer\n",
            "  Building wheel for pdfminer (setup.py) ... \u001b[?25l\u001b[?25hdone\n",
            "  Created wheel for pdfminer: filename=pdfminer-20191125-py3-none-any.whl size=6140092 sha256=ada77b3d2d4790520bdd063de8b641bfbfcbc761b92c1ab9e836df6b353d8ef0\n",
            "  Stored in directory: /root/.cache/pip/wheels/e3/5e/f4/d210b46e9e4a28229ea070ed5b3efa92c3c29d1a7918dd4b97\n",
            "Successfully built pdfminer\n",
            "Installing collected packages: pycryptodome, pdfminer\n",
            "Successfully installed pdfminer-20191125 pycryptodome-3.12.0\n"
          ]
        }
      ]
    },
    {
      "cell_type": "markdown",
      "metadata": {
        "id": "CXaLVoqaWnVk"
      },
      "source": [
        "## Uploading PDF and converting to text "
      ],
      "id": "CXaLVoqaWnVk"
    },
    {
      "cell_type": "code",
      "metadata": {
        "id": "QO-W00JfBN8O",
        "colab": {
          "base_uri": "https://localhost:8080/"
        },
        "outputId": "350201bf-2586-4a40-d5be-3b9a42dd463e"
      },
      "source": [
        "!pip install pdfminer"
      ],
      "id": "QO-W00JfBN8O",
      "execution_count": 19,
      "outputs": [
        {
          "output_type": "stream",
          "name": "stdout",
          "text": [
            "Requirement already satisfied: pdfminer in /usr/local/lib/python3.7/dist-packages (20191125)\n",
            "Requirement already satisfied: pycryptodome in /usr/local/lib/python3.7/dist-packages (from pdfminer) (3.12.0)\n"
          ]
        }
      ]
    },
    {
      "cell_type": "code",
      "metadata": {
        "id": "0ar06yPcEbDt"
      },
      "source": [
        "#Importing required libraries\n",
        "\n",
        "from pdfminer.pdfinterp import PDFResourceManager, PDFPageInterpreter\n",
        "from pdfminer.converter import TextConverter\n",
        "from pdfminer.layout import LAParams\n",
        "from pdfminer.pdfpage import PDFPage\n",
        "from io import StringIO\n",
        "import nltk\n",
        "import os\n",
        "import re\n",
        "import pickle\n",
        "from datetime import datetime\n",
        "\n",
        "# convert_pdf_to_text is the function which takes pdf file and converts it into text and returns text.\n",
        "\n",
        "def convert_pdf_to_txt(path):\n",
        "    rsrcmgr = PDFResourceManager()\n",
        "    retstr = StringIO()\n",
        "    codec = 'utf-8'\n",
        "    laparams = LAParams()\n",
        "    device = TextConverter(rsrcmgr, retstr, laparams=laparams)\n",
        "    fp = open(path, 'rb')\n",
        "    interpreter = PDFPageInterpreter(rsrcmgr, device)\n",
        "    password = \"\"\n",
        "    maxpages = 0\n",
        "    caching = True\n",
        "    pagenos = set()\n",
        "\n",
        "    for page in PDFPage.get_pages(fp, pagenos, maxpages=maxpages, password=password, caching=caching, check_extractable=True):\n",
        "        interpreter.process_page(page)\n",
        "\n",
        "    text = retstr.getvalue()\n",
        "\n",
        "    fp.close()\n",
        "    device.close()\n",
        "    retstr.close()\n",
        "    return text\n"
      ],
      "id": "0ar06yPcEbDt",
      "execution_count": 20,
      "outputs": []
    },
    {
      "cell_type": "markdown",
      "metadata": {
        "id": "AF5EhgqLamZ7"
      },
      "source": [
        "## Uploading PDF to google colab"
      ],
      "id": "AF5EhgqLamZ7"
    },
    {
      "cell_type": "code",
      "metadata": {
        "id": "j7T94wDkMz3y",
        "colab": {
          "resources": {
            "http://localhost:8080/nbextensions/google.colab/files.js": {
              "data": "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",
              "ok": true,
              "headers": [
                [
                  "content-type",
                  "application/javascript"
                ]
              ],
              "status": 200,
              "status_text": ""
            }
          },
          "base_uri": "https://localhost:8080/",
          "height": 73
        },
        "outputId": "91077c8b-a35d-4d03-bb67-755cbb3c940d"
      },
      "source": [
        "from google.colab import files\n",
        "uploaded = files.upload()\n"
      ],
      "id": "j7T94wDkMz3y",
      "execution_count": 21,
      "outputs": [
        {
          "output_type": "display_data",
          "data": {
            "text/html": [
              "\n",
              "     <input type=\"file\" id=\"files-b8db6872-dca1-4a42-a921-baaa6c688e08\" name=\"files[]\" multiple disabled\n",
              "        style=\"border:none\" />\n",
              "     <output id=\"result-b8db6872-dca1-4a42-a921-baaa6c688e08\">\n",
              "      Upload widget is only available when the cell has been executed in the\n",
              "      current browser session. Please rerun this cell to enable.\n",
              "      </output>\n",
              "      <script src=\"/nbextensions/google.colab/files.js\"></script> "
            ],
            "text/plain": [
              "<IPython.core.display.HTML object>"
            ]
          },
          "metadata": {}
        },
        {
          "output_type": "stream",
          "name": "stdout",
          "text": [
            "Saving Water goal.pdf to Water goal.pdf\n"
          ]
        }
      ]
    },
    {
      "cell_type": "code",
      "metadata": {
        "id": "ZE4yOKOxNUF-",
        "colab": {
          "base_uri": "https://localhost:8080/",
          "height": 35
        },
        "outputId": "63be4ecd-87a0-4b1b-86a0-dd2ccfa4a2fe"
      },
      "source": [
        "# Getting the uploaded file name \n",
        "var = (*uploaded,)\n",
        "str2= var[0]\n",
        "str2"
      ],
      "id": "ZE4yOKOxNUF-",
      "execution_count": 22,
      "outputs": [
        {
          "output_type": "execute_result",
          "data": {
            "application/vnd.google.colaboratory.intrinsic+json": {
              "type": "string"
            },
            "text/plain": [
              "'Water goal.pdf'"
            ]
          },
          "metadata": {},
          "execution_count": 22
        }
      ]
    },
    {
      "cell_type": "code",
      "metadata": {
        "id": "447YcjDiVs9m",
        "colab": {
          "base_uri": "https://localhost:8080/",
          "height": 35
        },
        "outputId": "5ac56516-b1f6-437b-aa98-e51bcfa0b955"
      },
      "source": [
        "# Creating path of the uploaded file\n",
        "str1 = \"/content/\"\n",
        "Final_path = str1+str2\n",
        "Final_path"
      ],
      "id": "447YcjDiVs9m",
      "execution_count": 23,
      "outputs": [
        {
          "output_type": "execute_result",
          "data": {
            "application/vnd.google.colaboratory.intrinsic+json": {
              "type": "string"
            },
            "text/plain": [
              "'/content/Water goal.pdf'"
            ]
          },
          "metadata": {},
          "execution_count": 23
        }
      ]
    },
    {
      "cell_type": "code",
      "metadata": {
        "id": "tPdQdZLFMx-o"
      },
      "source": [
        "#Giving final path to the text\n",
        "text = convert_pdf_to_txt(Final_path)\n"
      ],
      "id": "tPdQdZLFMx-o",
      "execution_count": 24,
      "outputs": []
    },
    {
      "cell_type": "code",
      "metadata": {
        "id": "D_vXZHGc4m-7"
      },
      "source": [
        "# Creating a new dataframe for giving text to preprocessspacy function.\n",
        "# Because it take the values of the column as input.\n",
        "# So created a dataframe and inserting txt into particular column called \"docs\" in the dataframe\n",
        "\n",
        "Final_df  = pd.DataFrame()\n",
        "Final_df['text'] = [text]"
      ],
      "id": "D_vXZHGc4m-7",
      "execution_count": 25,
      "outputs": []
    },
    {
      "cell_type": "code",
      "metadata": {
        "id": "kcA3JqRj4rmM",
        "colab": {
          "base_uri": "https://localhost:8080/"
        },
        "outputId": "d1ea34b1-ac75-4697-de8a-3d6dddb34122"
      },
      "source": [
        "# Giving the text which is in the dataframe to preprocess_spacy function\n",
        "\n",
        "Final_df['docs'] = preprocess_spacy(Final_df['text'].values)"
      ],
      "id": "kcA3JqRj4rmM",
      "execution_count": 26,
      "outputs": [
        {
          "output_type": "stream",
          "name": "stderr",
          "text": [
            "1it [00:01,  1.08s/it]\n"
          ]
        }
      ]
    },
    {
      "cell_type": "code",
      "metadata": {
        "id": "X65YN3E7diqP",
        "colab": {
          "base_uri": "https://localhost:8080/"
        },
        "outputId": "5caac533-09f2-42d6-82df-016b42cee463"
      },
      "source": [
        "#Predicting the Final goal of a pdf\n",
        "\n",
        "Final_predicted_goal = pipe.predict(Final_df['docs'])\n",
        "print(\"SDG Goal : \",Final_predicted_goal)"
      ],
      "id": "X65YN3E7diqP",
      "execution_count": 27,
      "outputs": [
        {
          "output_type": "stream",
          "name": "stdout",
          "text": [
            "SDG Goal :  [6]\n"
          ]
        }
      ]
    },
    {
      "cell_type": "code",
      "metadata": {
        "id": "QFhHbovN_LoG",
        "colab": {
          "base_uri": "https://localhost:8080/"
        },
        "outputId": "75a152be-0d5d-489e-df72-ce8482c31b4c"
      },
      "source": [
        "# Predicting the probabilities of every goal according to uploaded pdf.\n",
        "\n",
        "Final_predicted_probabilities = pipe.predict_proba(Final_df['docs']).flatten()\n",
        "print(\"Probabilities of each goal in order :\",Final_predicted_probabilities)"
      ],
      "id": "QFhHbovN_LoG",
      "execution_count": 28,
      "outputs": [
        {
          "output_type": "stream",
          "name": "stdout",
          "text": [
            "Probabilities of each goal in order : [0.07 0.05 0.05 0.12 0.11 0.15 0.15 0.05 0.02 0.03 0.05 0.03 0.09 0.03\n",
            " 0.  ]\n"
          ]
        }
      ]
    },
    {
      "cell_type": "markdown",
      "metadata": {
        "id": "GHQt3fXJekUW"
      },
      "source": [
        "## Printing a final dataframe with \"Goal_Numbers\" and \"Goal_Probabilities\"!!!!"
      ],
      "id": "GHQt3fXJekUW"
    },
    {
      "cell_type": "code",
      "metadata": {
        "id": "MDTmiNPMGfM8",
        "colab": {
          "base_uri": "https://localhost:8080/"
        },
        "outputId": "107ce052-9395-40e0-919a-836678ff93aa"
      },
      "source": [
        "goals_data= {'SDG Goals':['No Poverty', 'Zero Hunger', 'Good Health and Well-Being',\n",
        "                             'Quality Education', 'Gender Equality', 'Clean Water And Sanitation', \n",
        "                             'Affordable Clean Energy','Decent Work And Economic Growth',\n",
        "                             'Industry,Innovation And Infrastructure', 'Reduced Inqualities',\n",
        "                             'Sustainable Cities And Communities', 'Responsible Consumption And Production',\n",
        "                             'Climate Action', 'Life Below Earth', 'Life on Land'],\n",
        "             'Goal_Number':[1,2,3,4,5,6,7,8,9,10,11,12,13,14,15]}\n",
        "df1  = pd.DataFrame(goals_data)\n",
        "Prob= pipe.predict_proba(Final_df['docs']).flatten() # Probabilities of each goals\n",
        "df1['Probability_Scores']= Prob\n",
        "Final_Table = df1.sort_values([\"Probability_Scores\"], ascending=False) # Sorting the goals based on highest probabilities\n",
        "print(Final_Table) #Printing the final table"
      ],
      "id": "MDTmiNPMGfM8",
      "execution_count": 29,
      "outputs": [
        {
          "output_type": "stream",
          "name": "stdout",
          "text": [
            "                                 SDG Goals  Goal_Number  Probability_Scores\n",
            "5               Clean Water And Sanitation            6                0.15\n",
            "6                  Affordable Clean Energy            7                0.15\n",
            "3                        Quality Education            4                0.12\n",
            "4                          Gender Equality            5                0.11\n",
            "12                          Climate Action           13                0.09\n",
            "0                               No Poverty            1                0.07\n",
            "1                              Zero Hunger            2                0.05\n",
            "2               Good Health and Well-Being            3                0.05\n",
            "7          Decent Work And Economic Growth            8                0.05\n",
            "10      Sustainable Cities And Communities           11                0.05\n",
            "9                      Reduced Inqualities           10                0.03\n",
            "11  Responsible Consumption And Production           12                0.03\n",
            "13                        Life Below Earth           14                0.03\n",
            "8   Industry,Innovation And Infrastructure            9                0.02\n",
            "14                            Life on Land           15                0.00\n"
          ]
        }
      ]
    },
    {
      "cell_type": "code",
      "metadata": {
        "id": "iyUStRqCfKEA"
      },
      "source": [
        ""
      ],
      "id": "iyUStRqCfKEA",
      "execution_count": 29,
      "outputs": []
    }
  ]
}